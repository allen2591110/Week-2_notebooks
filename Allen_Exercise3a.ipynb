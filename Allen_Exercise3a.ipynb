{
 "cells": [
  {
   "cell_type": "code",
   "execution_count": 1,
   "metadata": {},
   "outputs": [
    {
     "data": {
      "text/plain": [
       "              Atlanta Chicago Denver Houston LosAngeles Miami NewYork\n",
       "Chicago           587                                                \n",
       "Denver           1212     920                                        \n",
       "Houston           701     940    879                                 \n",
       "LosAngeles       1936    1745    831    1374                         \n",
       "Miami             604    1188   1726     968       2339              \n",
       "NewYork           748     713   1631    1420       2451  1092        \n",
       "SanFrancisco     2139    1858    949    1645        347  2594    2571\n",
       "Seattle          2182    1737   1021    1891        959  2734    2408\n",
       "Washington.DC     543     597   1494    1220       2300   923     205\n",
       "              SanFrancisco Seattle\n",
       "Chicago                           \n",
       "Denver                            \n",
       "Houston                           \n",
       "LosAngeles                        \n",
       "Miami                             \n",
       "NewYork                           \n",
       "SanFrancisco                      \n",
       "Seattle                678        \n",
       "Washington.DC         2442    2329"
      ]
     },
     "metadata": {},
     "output_type": "display_data"
    }
   ],
   "source": [
    "UScitiesD"
   ]
  },
  {
   "cell_type": "code",
   "execution_count": 2,
   "metadata": {},
   "outputs": [
    {
     "data": {
      "image/png": "[encoded data removed]",
      "text/plain": [
       "plot without title"
      ]
     },
     "metadata": {},
     "output_type": "display_data"
    }
   ],
   "source": [
    "plot(UScitiesD)"
   ]
  },
  {
   "cell_type": "markdown",
   "metadata": {},
   "source": [
    "First a superfical pattern, the dots form a butterfly. This is a terrible graph. The axi names are unhelpful to understand the data. There is clearly an intersection around Index 28 or so and UScitiesD 1500, but otherwise there are few patterns to observe. "
   ]
  },
  {
   "cell_type": "code",
   "execution_count": null,
   "metadata": {},
   "outputs": [],
   "source": [
    "Titanic"
   ]
  },
  {
   "cell_type": "code",
   "execution_count": null,
   "metadata": {},
   "outputs": [],
   "source": [
    "\"Titanic\""
   ]
  },
  {
   "cell_type": "code",
   "execution_count": null,
   "metadata": {},
   "outputs": [],
   "source": [
    "Titanic\n"
   ]
  },
  {
   "cell_type": "code",
   "execution_count": null,
   "metadata": {},
   "outputs": [],
   "source": [
    "plot(Titanic)"
   ]
  },
  {
   "cell_type": "code",
   "execution_count": null,
   "metadata": {},
   "outputs": [],
   "source": [
    "Titanic"
   ]
  },
  {
   "cell_type": "code",
   "execution_count": null,
   "metadata": {},
   "outputs": [],
   "source": []
  }
 ],
 "metadata": {
  "kernelspec": {
   "display_name": "R",
   "language": "R",
   "name": "ir"
  },
  "language_info": {
   "codemirror_mode": "r",
   "file_extension": ".r",
   "mimetype": "text/x-r-source",
   "name": "R",
   "pygments_lexer": "r",
   "version": "3.6.2"
  }
 },
 "nbformat": 4,
 "nbformat_minor": 2
}
